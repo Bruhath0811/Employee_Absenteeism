{
 "cells": [
  {
   "cell_type": "code",
   "execution_count": 1,
   "metadata": {},
   "outputs": [
    {
     "ename": "ModuleNotFoundError",
     "evalue": "No module named 'fancyimpute'",
     "output_type": "error",
     "traceback": [
      "\u001b[1;31m---------------------------------------------------------------------------\u001b[0m",
      "\u001b[1;31mModuleNotFoundError\u001b[0m                       Traceback (most recent call last)",
      "\u001b[1;32m<ipython-input-1-03e049fd5a18>\u001b[0m in \u001b[0;36m<module>\u001b[1;34m()\u001b[0m\n\u001b[0;32m      2\u001b[0m \u001b[1;32mimport\u001b[0m \u001b[0mpandas\u001b[0m \u001b[1;32mas\u001b[0m \u001b[0mpd\u001b[0m\u001b[1;33m\u001b[0m\u001b[0m\n\u001b[0;32m      3\u001b[0m \u001b[1;32mimport\u001b[0m \u001b[0mnumpy\u001b[0m \u001b[1;32mas\u001b[0m \u001b[0mnp\u001b[0m\u001b[1;33m\u001b[0m\u001b[0m\n\u001b[1;32m----> 4\u001b[1;33m \u001b[1;32mfrom\u001b[0m \u001b[0mfancyimpute\u001b[0m \u001b[1;32mimport\u001b[0m \u001b[0mKNN\u001b[0m\u001b[1;33m\u001b[0m\u001b[0m\n\u001b[0m\u001b[0;32m      5\u001b[0m \u001b[1;32mimport\u001b[0m \u001b[0mmatplotlib\u001b[0m\u001b[1;33m.\u001b[0m\u001b[0mpyplot\u001b[0m \u001b[1;32mas\u001b[0m \u001b[0mplt\u001b[0m\u001b[1;33m\u001b[0m\u001b[0m\n\u001b[0;32m      6\u001b[0m \u001b[1;32mfrom\u001b[0m \u001b[0mscipy\u001b[0m\u001b[1;33m.\u001b[0m\u001b[0mstats\u001b[0m \u001b[1;32mimport\u001b[0m \u001b[0mchi2_contingency\u001b[0m\u001b[1;33m\u001b[0m\u001b[0m\n",
      "\u001b[1;31mModuleNotFoundError\u001b[0m: No module named 'fancyimpute'"
     ]
    }
   ],
   "source": [
    "import os\n",
    "import pandas as pd\n",
    "import numpy as np\n",
    "from fancyimpute import KNN\n",
    "import matplotlib.pyplot as plt\n",
    "from scipy.stats import chi2_contingency\n",
    "import seaborn as sns\n",
    "from random import randrange, uniform"
   ]
  },
  {
   "cell_type": "code",
   "execution_count": 12,
   "metadata": {},
   "outputs": [],
   "source": [
    "os.chdir(\"E:\\python\\Project2\")"
   ]
  },
  {
   "cell_type": "code",
   "execution_count": 14,
   "metadata": {},
   "outputs": [
    {
     "data": {
      "text/plain": [
       "'E:\\\\python\\\\Project2'"
      ]
     },
     "execution_count": 14,
     "metadata": {},
     "output_type": "execute_result"
    }
   ],
   "source": [
    "os.getcwd()"
   ]
  },
  {
   "cell_type": "code",
   "execution_count": 15,
   "metadata": {},
   "outputs": [],
   "source": [
    "Ab_data=pd.read_excel(\"Employee_absenteeism.xls\")"
   ]
  },
  {
   "cell_type": "code",
   "execution_count": 32,
   "metadata": {},
   "outputs": [
    {
     "data": {
      "text/plain": [
       "Index(['ID', 'Reason for absence', 'Month of absence', 'Day of the week',\n",
       "       'Seasons', 'Transportation expense', 'Distance from Residence to Work',\n",
       "       'Service time', 'Age', 'Work load Average/day ', 'Hit target',\n",
       "       'Disciplinary failure', 'Education', 'Son', 'Social drinker',\n",
       "       'Social smoker', 'Pet', 'Weight', 'Height', 'Body mass index',\n",
       "       'Absenteeism time in hours'],\n",
       "      dtype='object')"
      ]
     },
     "execution_count": 32,
     "metadata": {},
     "output_type": "execute_result"
    }
   ],
   "source": [
    "Ab_data.columns"
   ]
  },
  {
   "cell_type": "code",
   "execution_count": 20,
   "metadata": {},
   "outputs": [],
   "source": [
    "Missing_val=pd.DataFrame(Ab_data.isnull().sum())"
   ]
  },
  {
   "cell_type": "code",
   "execution_count": 23,
   "metadata": {},
   "outputs": [],
   "source": [
    "Missing_val = Missing_val.reset_index()"
   ]
  },
  {
   "cell_type": "code",
   "execution_count": 25,
   "metadata": {},
   "outputs": [],
   "source": [
    "Missing_val = Missing_val.rename(columns = {'index': 'Variables', 0: 'Missing_percentage'})"
   ]
  },
  {
   "cell_type": "code",
   "execution_count": 26,
   "metadata": {},
   "outputs": [],
   "source": [
    "Missing_val['Missing_percentage'] = (Missing_val['Missing_percentage']/len(Ab))*100"
   ]
  },
  {
   "cell_type": "code",
   "execution_count": 27,
   "metadata": {},
   "outputs": [],
   "source": [
    "Missing_val = Missing_val.sort_values('Missing_percentage', ascending = False).reset_index(drop = True)"
   ]
  },
  {
   "cell_type": "code",
   "execution_count": 28,
   "metadata": {},
   "outputs": [],
   "source": [
    "Missing_val.to_csv(\"Missing_per.csv\",index=False)"
   ]
  },
  {
   "cell_type": "code",
   "execution_count": 29,
   "metadata": {},
   "outputs": [
    {
     "ename": "NameError",
     "evalue": "name 'KNN' is not defined",
     "output_type": "error",
     "traceback": [
      "\u001b[1;31m---------------------------------------------------------------------------\u001b[0m",
      "\u001b[1;31mNameError\u001b[0m                                 Traceback (most recent call last)",
      "\u001b[1;32m<ipython-input-29-a730c3863c24>\u001b[0m in \u001b[0;36m<module>\u001b[1;34m()\u001b[0m\n\u001b[1;32m----> 1\u001b[1;33m \u001b[0mAb_data\u001b[0m \u001b[1;33m=\u001b[0m \u001b[0mpd\u001b[0m\u001b[1;33m.\u001b[0m\u001b[0mDataFrame\u001b[0m\u001b[1;33m(\u001b[0m\u001b[0mKNN\u001b[0m\u001b[1;33m(\u001b[0m\u001b[0mk\u001b[0m \u001b[1;33m=\u001b[0m \u001b[1;36m3\u001b[0m\u001b[1;33m)\u001b[0m\u001b[1;33m.\u001b[0m\u001b[0mcomplete\u001b[0m\u001b[1;33m(\u001b[0m\u001b[0mAb_data\u001b[0m\u001b[1;33m)\u001b[0m\u001b[1;33m,\u001b[0m \u001b[0mcolumns\u001b[0m \u001b[1;33m=\u001b[0m \u001b[0mAb_data\u001b[0m\u001b[1;33m.\u001b[0m\u001b[0mcolumns\u001b[0m\u001b[1;33m)\u001b[0m\u001b[1;33m\u001b[0m\u001b[0m\n\u001b[0m",
      "\u001b[1;31mNameError\u001b[0m: name 'KNN' is not defined"
     ]
    }
   ],
   "source": [
    "Ab_data = pd.DataFrame(KNN(k = 3).complete(Ab_data), columns = Ab_data.columns)"
   ]
  },
  {
   "cell_type": "code",
   "execution_count": 31,
   "metadata": {},
   "outputs": [],
   "source": [
    "df = Ab_data.copy()\n",
    "Ab_data=df.copy()\n"
   ]
  },
  {
   "cell_type": "code",
   "execution_count": null,
   "metadata": {},
   "outputs": [],
   "source": [
    "for i in range(0,Ab_data.shape[1]):\n",
    "    if(Ab_data.iloc[:,i].dtypes =='object'):\n",
    "    Ab_data.iloc[:,i] = pd.Categorical(Ab_data.iloc[:,i])\n",
    "    Ab_data.iloc[:,i] = Ab_data.iloc[:,i].cat.codes\n",
    "    Ab_data.iloc[:,i] = Ab_data.iloc[:,i].astype('object')\n",
    "    lis.append(Ab_data.columns[i])\n",
    "cnames=[''Transportation expense', 'Distance from Residence to Work','Service time', 'Age', 'Work load Average/day ', 'Hit target','Weight', 'Height', 'Body mass index','Absenteeism time in hours']\n",
    "\n",
    "for i in cnames:\n",
    "    print(i)\n",
    "    q75, q25 = np.percentile(Ab_data.loc[:,i], [75 ,25])\n",
    "    iqr = q75 - q25\n",
    "    min = q25 - (iqr*1.5)\n",
    "    max = q75 + (iqr*1.5)\n",
    "    print(min)\n",
    "    print(max)\n",
    "\n",
    "Ab_data=Ab_data.drop(Ab_data[Ab_data.loc[:,i]<min].index)\n",
    "    \n",
    "Ab_data=Ab_data.drop(Ab_data[Ab_data.loc[:,i]>max].index)\n",
    "Ab_data.shape\n",
    "Ab_data_corr=Ab_data.loc[:,cnames]\n",
    "import matplotlib.pyplot as plt\n",
    "f, ax = plt.subplots(figsize=(7, 5))\n",
    "        \n",
    "        \n",
    "corr=Ab_data.corr()\n",
    "sns.heatmap(corr, mask=np.zeros_like(corr,dtype=np.bool), cmap=sns.diverging_palette(220, 10, as_cmap=True),square=True,ax=ax)\n",
    "plt.show()\n",
    "cat_names=['ID', 'Reason for absence', 'Month of absence', 'Day of the week',\n",
    "       'Seasons','Disciplinary failure', 'Education', 'Son', 'Social drinker',\n",
    "       'Social smoker', 'Pet']\n",
    "for i in cat_names:\n",
    "    print(i)\n",
    "    avo, p, dof, ex = aov(pd.crosstab(Ab_data['Absenteeism time in hours'], Ab_data[i]))\n",
    "print(p)\n",
    "Ab_data=Ab_data.drop([Day_of_the_week,Social_smoker,Education,Seasons,Body_mass_index,Service_time],axis=1)\n",
    "%matplotlib inline\n",
    "plt.hist(Transportation_expense,bins='auto')\n",
    "        \n",
    "snames=[cnrnames = c(\"Transportation_expense\",\"Age\",\"Weight\",\"Absenteeism_time_in_hours\",\"Distance_from_Residence_to_Work\",\"Work_load_Average_day\",\"Hit_target\",\"Height\"]\n",
    "for i in cnames:\n",
    "    print(i)\n",
    "Ab_data[i]=(Ab_data[i]-min(Ab_data[i]))/(max(Ab_data[i])-min(Ab_data[i]))\n",
    "for i in snames:\n",
    "   print(i)\n",
    "   Ab_data[i] = (Ab_data[i] - Ab_data[i].mean())/Ab_data[i].std()\n",
    "                     \n",
    "                     \n",
    "from sklearn.ensemble import RandomForestClassfier\n",
    "RF_Model=RandomForestClassfier(n-estimatiors=500.fit(Age,Absenteeism_time_in_hours)\n",
    "Rf_predictions=RF_Model.predict(Age )\n",
    "from sklearn.metrics import confusion_matrix\n",
    "CM=pd.crosstab(Churn,Churn_predictions)\n",
    "                               \n",
    "train,test=train_test_split(Ab_data,test_size=0.2)\n",
    "                               \n",
    "Fit_dt=DecisionTreeRegressor(Max_depth=2).fit(train.iloc[:,0:9],train.ioc[:,9]) \n",
    "                            \n",
    "\n",
    "Predictions_dt=Fit_dt.predict(test.iloc[:,0:9])\n",
    " \n",
    "import statsmodels.api as sm\n",
    "\n",
    "Model = sm.ols(train.iloc[:,9],train.iloc[:,0:9]).fit()\n",
    "  model.summary() \n",
    "                               \n",
    "Predictions_lr=Model.predict(test.iloc[:,0:9])\n",
    "                               \n",
    "    MAPE(test.iloc[:,9],Predictios_lr)                           \n",
    "                               \n",
    "                               \n",
    "    "
   ]
  }
 ],
 "metadata": {
  "kernelspec": {
   "display_name": "Python 3",
   "language": "python",
   "name": "python3"
  },
  "language_info": {
   "codemirror_mode": {
    "name": "ipython",
    "version": 3
   },
   "file_extension": ".py",
   "mimetype": "text/x-python",
   "name": "python",
   "nbconvert_exporter": "python",
   "pygments_lexer": "ipython3",
   "version": "3.6.5"
  }
 },
 "nbformat": 4,
 "nbformat_minor": 2
}
